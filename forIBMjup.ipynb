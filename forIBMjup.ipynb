{
 "cells": [
  {
   "cell_type": "markdown",
   "id": "dbf69414-7ab8-4f2b-b164-404e7c254a4e",
   "metadata": {},
   "source": [
    "# My jupyter notebook on IBM Watson Studio"
   ]
  },
  {
   "cell_type": "markdown",
   "id": "4821d5ff-9320-48d0-bfef-14425d37266f",
   "metadata": {},
   "source": [
    "#My name is Jose and I'm a student of business administration I want to relate to business intelligence, machine learning, and data (analysis, science)"
   ]
  },
  {
   "cell_type": "markdown",
   "id": "a3bfeb7c-98a0-45aa-a225-19a47a54423a",
   "metadata": {},
   "source": [
    "#I am interested in data science because I expect to achieve many things in the future, first of all, I wanna understand how to work the tools for data and learn everything about it"
   ]
  },
  {
   "cell_type": "code",
   "execution_count": null,
   "id": "d1598d2b-7866-4ff4-ae67-14b4b16b39ea",
   "metadata": {},
   "outputs": [],
   "source": [
    "# Here I wanna show you a short sum"
   ]
  },
  {
   "cell_type": "code",
   "execution_count": 46,
   "id": "9b1ced5f-c7a9-45e7-bb77-fda84a6a4a89",
   "metadata": {},
   "outputs": [
    {
     "data": {
      "text/plain": [
       "2"
      ]
     },
     "execution_count": 46,
     "metadata": {},
     "output_type": "execute_result"
    }
   ],
   "source": [
    "1 + 1"
   ]
  },
  {
   "cell_type": "code",
   "execution_count": 5,
   "id": "9e4791d1-f22f-4a36-9e32-bd317ce1b4be",
   "metadata": {},
   "outputs": [
    {
     "data": {
      "text/plain": [
       "2"
      ]
     },
     "execution_count": 5,
     "metadata": {},
     "output_type": "execute_result"
    }
   ],
   "source": [
    "a = 5\n",
    "b = 4\n",
    "c = 7\n",
    "a + b - c "
   ]
  },
  {
   "cell_type": "code",
   "execution_count": null,
   "id": "4cb0368f-1dca-4e7d-841f-3d49deb3fe7b",
   "metadata": {},
   "outputs": [],
   "source": [
    "#Another characters"
   ]
  },
  {
   "cell_type": "code",
   "execution_count": 36,
   "id": "5220dfef-3091-465a-9ff7-c5d8c6ae2d06",
   "metadata": {},
   "outputs": [
    {
     "data": {
      "text/plain": [
       "150.0"
      ]
     },
     "execution_count": 36,
     "metadata": {},
     "output_type": "execute_result"
    }
   ],
   "source": [
    "240 + 450 * 3 / 10\n",
    "375 / 2\n",
    "187.5 * 4\n",
    "750 / 5\n",
    "\n",
    "\n",
    "\n"
   ]
  },
  {
   "cell_type": "code",
   "execution_count": 43,
   "id": "45feb321-e23b-4e2a-acfb-9de335d8bdf7",
   "metadata": {},
   "outputs": [
    {
     "data": {
      "text/plain": [
       "15"
      ]
     },
     "execution_count": 43,
     "metadata": {},
     "output_type": "execute_result"
    }
   ],
   "source": [
    "a = 45\n",
    "b = 40\n",
    "c = 70\n",
    "a + b - c"
   ]
  },
  {
   "cell_type": "code",
   "execution_count": null,
   "id": "6d99eae6-5ec6-450a-b315-74dba1e67bc2",
   "metadata": {},
   "outputs": [],
   "source": []
  }
 ],
 "metadata": {
  "kernelspec": {
   "display_name": "Python 3 (ipykernel)",
   "language": "python",
   "name": "python3"
  },
  "language_info": {
   "codemirror_mode": {
    "name": "ipython",
    "version": 3
   },
   "file_extension": ".py",
   "mimetype": "text/x-python",
   "name": "python",
   "nbconvert_exporter": "python",
   "pygments_lexer": "ipython3",
   "version": "3.9.13"
  }
 },
 "nbformat": 4,
 "nbformat_minor": 5
}
